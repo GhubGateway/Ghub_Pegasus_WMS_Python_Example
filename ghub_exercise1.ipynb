{
 "cells": [
  {
   "cell_type": "code",
   "execution_count": 1,
   "metadata": {},
   "outputs": [],
   "source": [
    "#%load_ext autoreload\n",
    "#%autoreload 2"
   ]
  },
  {
   "cell_type": "markdown",
   "metadata": {},
   "source": [
    "# <center> Python Pegasus WMS Demonstration </center>\n",
    "\n",
    "## Overview\n",
    "\n",
    "- This tool demonstrates running a Ghub Pegasus Workflow Management System (WMS) workflow with a Python script on University at Buffalo (UB)'s Center For Computational Research (CCR)'s generally accessible high performance compute cluster, UB-HPC.\n",
    "\n",
    "## Background\n",
    "\n",
    "- The Python script is encapsulated as a workflow; the Pegasus Workflow Management System (WMS) automates and manages the execution of the workflow jobs, including staging the jobs, distributing the work, submitting the jobs to run on CCR's UB-HPC compute cluster, as well as handling data flow dependencies and overcoming job failures. See https://pegasus.isi.edu/documentation/index.html for more information on the Pegasus Workflow Management System (WMS). See https://theghub.org/tools/pegtut for an introductory Pegasus tutorial.\n",
    "- The submit command enables Ghub users to execute code on CCR's UB-HPC compute cluster. See https://theghub.org/kb/development/using-submit for more information on the submit command. See https://help.hubzero.org/documentation/current/tooldevs/grid/pegasuswf and ./bin/Wrapper.py for more information on submitting a pegasus-plan for the workflow.\n",
    "- This Jupyter-based tool uses Python 3. See https://theghub.org/resources?alias=jupyterexamples for more information on developing Jupyter-based tools on Ghub.\n",
    "- This tool is deployed on Debian 10 to run in Tool or App mode style. See https://theghub.org/kb/development/deploy-styles-for-jupyter-tools for more information on deploying Jupyter-based tools on Ghub."
   ]
  },
  {
   "cell_type": "code",
   "execution_count": 2,
   "metadata": {},
   "outputs": [
    {
     "data": {
      "application/javascript": [
       "\n",
       "requirejs.undef('filepicker');\n",
       "\n",
       "define('filepicker', [\"@jupyter-widgets/base\"], function(widgets) {\n",
       "\n",
       "    var FilePickerView = widgets.DOMWidgetView.extend({\n",
       "        render: function(){\n",
       "            this.file = document.createElement('input');\n",
       "            this.file.setAttribute('class', 'fileinput');\n",
       "            this.file.setAttribute('id', this.cid);\n",
       "            this.file.multiple = this.model.get('multiple');\n",
       "            this.file.required = true;\n",
       "            this.file.setAttribute('type', 'file');\n",
       "            this.file.setAttribute('style', 'display:none');\n",
       "\n",
       "            this.label = document.createElement('label');\n",
       "            this.label.setAttribute('for', this.cid);\n",
       "            this.label.setAttribute('style', 'border: 1px solid; border-radius: 5px; display: inline-block; padding: 6px 12px');\n",
       "\n",
       "            this.icon = document.createElement('i');\n",
       "            this.icon.setAttribute(\"class\", \"fa fa-upload\");\n",
       "\n",
       "            if (this.file.multiple) {\n",
       "                this.labelstr = \"  Upload Files\";\n",
       "            } else {\n",
       "                this.labelstr = \"  Upload File\";\n",
       "            }\n",
       "            this.label.innerHTML = this.labelstr;\n",
       "            this.label.prepend(this.icon);\n",
       "            this.el.appendChild(this.label);\n",
       "            this.el.appendChild(this.file);\n",
       "            this.listenTo(this.model, 'change:send', this._send_changed, this);\n",
       "            this.listenTo(this.model, 'change:reset', this._reset, this);\n",
       "            this.update();\n",
       "        },\n",
       "\n",
       "        events: {\n",
       "            // List of events and their handlers.\n",
       "            'change': 'handle_file_change'\n",
       "        },\n",
       "\n",
       "        _reset: function() {\n",
       "            this.label.innerHTML = this.labelstr;\n",
       "            this.label.prepend(this.icon);\n",
       "            this.file.removeAttribute(\"disabled\");\n",
       "        },\n",
       "\n",
       "        _send_changed: function() {\n",
       "            var that = this;\n",
       "            var send = this.model.get('send');\n",
       "            var fnum = send[0];\n",
       "            var offset = send[1];\n",
       "            var chunk_size=64*1024;\n",
       "            var reader;\n",
       "\n",
       "            if (fnum == -1) {\n",
       "                // ignore\n",
       "                return\n",
       "            }\n",
       "\n",
       "            if (offset == 0) {\n",
       "                this.model.set('sent', -1);\n",
       "                this.touch();\n",
       "            }\n",
       "\n",
       "            // console.log('send: ' + fnum + ' ' + offset);\n",
       "            function tob64( buffer ) {\n",
       "                var binary = '';\n",
       "                var bytes = new Uint8Array( buffer );\n",
       "                var len = bytes.byteLength;\n",
       "                for (var i = 0; i < len; i++) {\n",
       "                    binary += String.fromCharCode( bytes[ i ] );\n",
       "                }\n",
       "                return window.btoa( binary );\n",
       "            }\n",
       "\n",
       "            var reader_done = function (event) {\n",
       "                // chunk is finished.  Send to python\n",
       "                if (event.target.error == null) {\n",
       "                    var b64 = tob64(event.target.result);\n",
       "                    that.model.set('data', b64);\n",
       "                    that.model.set('sent', offset);\n",
       "                    that.touch();\n",
       "                } else {\n",
       "                    console.log(\"Read error: \" + event.target.error);\n",
       "                    that.model.set('data', '');\n",
       "                    that.model.set('sent', -2);\n",
       "                    that.touch();\n",
       "                }\n",
       "                that.touch();\n",
       "            }\n",
       "        \n",
       "            var chunk_reader = function (_offset, _f) {\n",
       "                // console.log('CR' + ' ' + _f + ' ' + _offset);\n",
       "                reader = new FileReader();\n",
       "                var chunk = _f.slice(_offset, chunk_size + _offset);            \n",
       "                reader.readAsArrayBuffer(chunk);\n",
       "                reader.onload = reader_done;\n",
       "            }\n",
       "    \n",
       "            // OK. request next chunk\n",
       "            chunk_reader(offset, this.files[fnum]);\n",
       "        },\n",
       "        \n",
       "        \n",
       "        handle_file_change: function(evt) {\n",
       "\n",
       "            var _files = evt.target.files;\n",
       "            var filenames = [];\n",
       "            var file_readers = [];\n",
       "            this.files = [];\n",
       "\n",
       "            for (var i = 0; i < _files.length; i++) {\n",
       "                var file = _files[i];\n",
       "                console.log(\"Filename: \" + file.name);\n",
       "                console.log(\"Type: \" + file.type);\n",
       "                console.log(\"Size: \" + file.size + \" bytes\");\n",
       "                this.files.push(file);\n",
       "                filenames.push([file.name, file.size]);\n",
       "            };\n",
       "            \n",
       "            // Set the filenames of the files.\n",
       "            this.model.set('filenames', filenames);\n",
       "            this.touch();\n",
       "\n",
       "            // update the label\n",
       "            if (filenames.length == 0) {\n",
       "                this.label.innerHTML = this.labelstr;\n",
       "                this.file.removeAttribute(\"disabled\");\n",
       "            } else if (filenames.length == 1) {\n",
       "                this.label.innerHTML = \"  \" + filenames[0][0];\n",
       "                this.file.setAttribute('disabled', 'true');\n",
       "            } else {\n",
       "                this.label.innerHTML = \"  \" + filenames.length + \" files selected\";\n",
       "                this.file.setAttribute('disabled', 'true');           \n",
       "            };\n",
       "            this.label.prepend(this.icon);\n",
       "        },\n",
       "    });\n",
       "\n",
       "    // Register the FilePickerView with the widget manager.\n",
       "    return {\n",
       "        FilePickerView: FilePickerView\n",
       "    };\n",
       "});\n"
      ],
      "text/plain": [
       "<IPython.core.display.Javascript object>"
      ]
     },
     "metadata": {},
     "output_type": "display_data"
    }
   ],
   "source": [
    "# As of 10/2023, tested with the Jupyter Notebook (202210) tool and the Python3 (ipykernel)\n",
    "\n",
    "# Setup and preoprocessing:\n",
    "\n",
    "import sys\n",
    "import os\n",
    "import getpass\n",
    "import platform\n",
    "import shutil\n",
    "import atexit\n",
    "import math\n",
    "import numpy as np\n",
    "import pandas as pd\n",
    "import time\n",
    "\n",
    "import ipywidgets as widgets\n",
    "from IPython.display import display, HTML, Markdown, clear_output, Image, Javascript\n",
    "#import xml.etree.ElementTree as et\n",
    "\n",
    "import hublib\n",
    "#print (help(hublib))\n",
    "import hublib.ui as ui\n",
    "#print (help(ui))\n",
    "import hublib.use\n",
    "#print (help(hublib.use))\n",
    "\n",
    "#print(sys.path)\n",
    "\n",
    "# Set up the environment for this notebook\n",
    "\n",
    "# Setup paths to executables\n",
    "scriptpath = os.path.realpath(\" \")\n",
    "        \n",
    "# Get the parent dirs\n",
    "self_tooldir = os.path.dirname(scriptpath)\n",
    "\n",
    "# Setup path to python and bash scripts\n",
    "self_bindir = os.path.join(self_tooldir, \"bin\")\n",
    "\n",
    "# Add to PYTHONPATH\n",
    "sys.path.insert (1, self_bindir)\n",
    "\n",
    "# Setup path to python and bash scripts\n",
    "self_remotebindir = os.path.join(self_tooldir, \"remotebin\")\n",
    "\n",
    "# Set up path to the current data directory\n",
    "self_datadir = os.path.join(self_tooldir, \"data\")\n",
    "\n",
    "# Set up path to the current session directory\n",
    "self_workingdir = os.getcwd()\n",
    "\n",
    "# Set up path to the user's home directory\n",
    "self_homedir = os.path.expanduser(\"~\")\n",
    "\n",
    "# Initialize the dated run directory.\n",
    "# Workflow results are not available until after a workflow is executed via Pegasus and completes\n",
    "self_rundir = \"\"\n",
    "\n",
    "self_user = getpass.getuser()\n",
    "\n",
    "# Configuration parameters\n",
    "\n",
    "import Configuration as cfg\n",
    "if cfg.VERBOSE == True:\n",
    "    print ('cfg.DISPERSION_MODEL: ', cfg.DISPERSION_MODEL, '\\n')\n",
    "\n",
    "# Version of Pegasus\n",
    "# Note: when switching the version of Pegasus, delete ~/.pegasus/workflow.db\n",
    "%use pegasus-5.0.1\n",
    "from Wrapper_5_0_1 import Wrapper\n",
    "\n",
    "np.set_printoptions(threshold=np.inf) \n",
    "\n",
    "self_log_filepath = os.path.join(self_workingdir, 'ghub_exercise1_log_file.txt')\n",
    "self_log_snapshot_filepath = os.path.join(self_workingdir, 'ghub_exercise1_log_snapshot_file.txt')\n",
    "self_log_backup_filepath = os.path.join(self_workingdir, 'ghub_exercise1_log_backup_file.txt')\n",
    "\n",
    "widget_border_style = '1px solid black'\n",
    "widget_output_border_style = '1px solid black'\n",
    "\n",
    "BOLD = '\\033[1m'\n",
    "SUCCESS = '\\033[92m'\n",
    "WARNING = '\\033[93m'\n",
    "FAIL = '\\033[91m'\n",
    "END = '\\033[0m'\n",
    "\n",
    "dropdown_str_width = 16\n",
    "\n",
    "dropdown_width = '965px'\n",
    "dropdown_height = '30px'\n",
    "button_width = '250px'\n",
    "button_height = '40px'\n",
    "ui_string_width = '96.5%'\n",
    "ui_dropdown_width = '96.2%'\n",
    "\n",
    "# Clean up: remove files from the data/results folder and the bin/__pycache__ folder\n",
    "def exit_handler():\n",
    "    \n",
    "    for file in os.listdir(self_workingdir):\n",
    "        \n",
    "        if os.path.isfile(file):\n",
    "            if file.endswith('.txt'):\n",
    "                if file != 'README.txt' and file != self_workflow_results_filepath and file != self_log_filepath:\n",
    "                    #print (\"Deleting: %s\\n\" %file)\n",
    "                    os.remove(file)\n",
    "            if file.endswith(\".yml\"):\n",
    "                #print (\"Deleting: %s\\n\" %file)\n",
    "                os.remove(file)\n",
    "            elif file.endswith(\".stdout\"):\n",
    "                #print (\"Deleting: %s\\n\" %file)\n",
    "                os.remove(file)\n",
    "            elif file.endswith(\".stderr\"):\n",
    "                #print (\"Deleting: %s\\n\" %file)\n",
    "                os.remove(file)\n",
    "\n",
    "    #dirpath = os.path.join(self_bindir, \"__pycache__\")\n",
    "    #if (os.path.exists(dirpath)):\n",
    "        #print (\"Deleting: %s\\n\" %dirpath)\n",
    "        #shutil.rmtree(dirpath)\n",
    "\n",
    "atexit.register(exit_handler);   "
   ]
  },
  {
   "cell_type": "code",
   "execution_count": 3,
   "metadata": {},
   "outputs": [],
   "source": [
    "# prevent In[] and Out[] from displaying on left\n",
    "#HTML('''\n",
    "#<style>.prompt{width: 0px; min-width: 0px; visibility: collapse}</style>\n",
    "#''')"
   ]
  },
  {
   "cell_type": "code",
   "execution_count": 4,
   "metadata": {},
   "outputs": [
    {
     "data": {
      "text/html": [
       "\n",
       "<script>\n",
       "    function scroll_to_top() {\n",
       "        Jupyter.notebook.scroll_to_top();\n",
       "    } \n",
       "    $( window ).on( \"load\", scroll_to_top() );\n",
       "</script>\n"
      ],
      "text/plain": [
       "<IPython.core.display.HTML object>"
      ]
     },
     "execution_count": 4,
     "metadata": {},
     "output_type": "execute_result"
    }
   ],
   "source": [
    "#https://api.jquery.com/ready/\n",
    "HTML('''\n",
    "<script>\n",
    "    function scroll_to_top() {\n",
    "        Jupyter.notebook.scroll_to_top();\n",
    "    } \n",
    "    $( window ).on( \"load\", scroll_to_top() );\n",
    "</script>\n",
    "''')"
   ]
  },
  {
   "cell_type": "code",
   "execution_count": 5,
   "metadata": {},
   "outputs": [
    {
     "data": {
      "text/html": [
       "\n",
       "<style>.buttontextclass { color:black ; font-size:130%}</style>\n"
      ],
      "text/plain": [
       "<IPython.core.display.HTML object>"
      ]
     },
     "execution_count": 5,
     "metadata": {},
     "output_type": "execute_result"
    }
   ],
   "source": [
    "# Button styles\n",
    "HTML('''\n",
    "<style>.buttontextclass { color:black ; font-size:130%}</style>\n",
    "''')"
   ]
  },
  {
   "cell_type": "code",
   "execution_count": 6,
   "metadata": {},
   "outputs": [],
   "source": [
    "if os.path.exists(self_log_filepath):\n",
    "    shutil.copy (self_log_filepath, self_log_backup_filepath)\n",
    "    \n",
    "FH1 = open(self_log_filepath, 'w')\n",
    "\n",
    "show_log_output_button = widgets.Button(description=\"Show Log Output\", disabled=False,\\\n",
    "    layout=widgets.Layout(width=button_width, height=button_height),\\\n",
    "    style= {'button_color':'lightgreen','font_weight':'bold'})\n",
    "\n",
    "# Utility Functions\n",
    "\n",
    "def log_info (message):\n",
    "    \n",
    "    if show_log_output_button.description == 'Hide Log Output': \n",
    "        with log_output:\n",
    "            print (message)    \n",
    "    FH1.write('%s\\n' %message)\n",
    "    FH1.flush()\n",
    "\n",
    "def log_status (output_widget, message):\n",
    "    \n",
    "    with output_widget:\n",
    "        print (message)\n",
    "    log_info (message)\n",
    "    \n",
    "def log_success (output_widget, message):\n",
    "    \n",
    "    with output_widget:\n",
    "        print ('%s%s%s' %(SUCCESS,message,END))\n",
    "    log_info (message)\n",
    "    \n",
    "def log_warning (output_widget, message):\n",
    "    \n",
    "    with output_widget:\n",
    "        print ('%s%s%s' %(WARNING,message,END))\n",
    "    log_info (message)\n",
    "    \n",
    "def log_error (output_widget, message):\n",
    "    \n",
    "    with output_widget:\n",
    "        print ('%s%s%s' %(FAIL,message,END))\n",
    "    log_info (message)\n",
    "    \n",
    "if (1): #cfg.VERBOSE == True:\n",
    "    \n",
    "    log_info ('Operating System Platform: ' + platform.system() + ' ' + platform.release())\n",
    "    log_info ('\\n')\n",
    "\n",
    "    log_info ('Environment:\\n')\n",
    "    log_info ('scriptpath: ' + scriptpath)\n",
    "    log_info ('tooldir: ' + self_tooldir)\n",
    "    log_info ('bindir: ' + self_bindir)\n",
    "    log_info ('datadir: ' + self_datadir)\n",
    "    log_info ('workingdir: ' + self_workingdir)\n",
    "    log_info ('homedir: ' + self_homedir)\n",
    "    log_info ('user: ' + self_user)\n",
    "    log_info ('\\n')\n",
    "    \n",
    "    #print (type(sys.path)) # <class 'list'>\n",
    "    #print (sys.path)\n",
    "    log_info ('sys.path: ' + ' '.join(str(path)+'\\n' for path in sys.path))\n",
    "    log_info ('\\n')\n",
    "    \n",
    "    #print (type(os.environ[\"PATH\"])) # <class 'str'>\n",
    "    #print (os.environ[\"PATH\"])\n",
    "    log_info ('os.environ[\"PATH\"]: ' + os.environ[\"PATH\"])\n",
    "    log_info ('\\n')\n"
   ]
  },
  {
   "cell_type": "markdown",
   "metadata": {},
   "source": [
    "### Note: ghub group membership is required to use this tool.<br/>\n",
    "\n"
   ]
  },
  {
   "cell_type": "code",
   "execution_count": 7,
   "metadata": {},
   "outputs": [
    {
     "name": "stdout",
     "output_type": "stream",
     "text": [
      "\u001b[92mGhub session number: 69945\u001b[0m\n",
      "\n",
      "\u001b[92mrenettej is a member of the ghub group.\u001b[0m\n"
     ]
    }
   ],
   "source": [
    "\n",
    "environ = dict(os.environ)\n",
    "#print (type(environ))\n",
    "#print (environ)\n",
    "key = 'SESSION'\n",
    "if key in environ:\n",
    "    session_num = str(environ[key])\n",
    "else:\n",
    "    session_num = 'session number unknown'\n",
    "message = 'Ghub session number: ' + str(session_num)\n",
    "print ('%s%s%s' %(SUCCESS,message,END), flush=True)\n",
    "log_info (message)\n",
    "\n",
    "# Verify ghub group membership\n",
    "in_ghub_group = False\n",
    "\n",
    "groups_info_filename = 'groups_info.txt'\n",
    "groups_cmd = 'groups > %s' %groups_info_filename\n",
    "os.system(groups_cmd)\n",
    "\n",
    "if os.path.exists(groups_info_filename):\n",
    "    f = open(groups_info_filename,'r')\n",
    "    for line in f:\n",
    "        groups = line.split(' ')\n",
    "        #print ('groups: ', groups)\n",
    "        for group in groups:\n",
    "            if group == 'ghub':\n",
    "                in_ghub_group = True\n",
    "                break\n",
    "if in_ghub_group == False:\n",
    "    message = 'ghub group membership is required to use this tool. %s is not a member of the ghub group. Please contact us.' %self_user\n",
    "    print ('%s%s%s' %(FAIL,message,END), flush=True)\n",
    "    log_info (message)\n",
    "else:\n",
    "    message = '%s is a member of the ghub group.' %self_user\n",
    "    print ('\\n%s%s%s' %(SUCCESS,message,END), flush=True)\n",
    "    log_info (message)\n"
   ]
  },
  {
   "cell_type": "markdown",
   "metadata": {},
   "source": [
    "<a name=\"top\"></a>\n",
    "#### [**Processing Steps**](#top)<br />\n",
    "\n",
    "1. [Select the Mapped Collection Folder](#step_1) <br />\n",
    "2. [Run the Workflow](#step_2)<br />\n",
    "    1. [Wrapper.py](#step_2)<br />\n",
    "3. [View Workflow Progress](#step_3)<br />\n",
    "4. [View Workflow Results](#step_4)<br />\n",
    "5. [View Log Output](#step_5)<br />\n"
   ]
  },
  {
   "cell_type": "code",
   "execution_count": 8,
   "metadata": {},
   "outputs": [
    {
     "name": "stdout",
     "output_type": "stream",
     "text": [
      "folder_list:  ['/projects/grid/ghub/ISMIP6/Projections/Reprocessed/CMIP6_Archive_Final/AIS', '/projects/grid/ghub/ISMIP6/Projections/Reprocessed/CMIP6_Archive_Final/GIS']\n",
      "description_list:  ['Antarctica', 'Greenland']\n",
      "modeling_groups:  ['AWI,DOE,ILTS_PIK,IMAU,JPL1,LSCE,NCAR,PIK,UCIJPL,ULB,UTAS,VUB,VUW', 'AWI,BGC,GSFC,ILTS_PIK,IMAU,JPL,LSCE,MUN,NCAR,UAF,UCIJPL,VUB,VUW']\n",
      "modeling_groups_list:  ['AWI', 'DOE', 'ILTS_PIK', 'IMAU', 'JPL1', 'LSCE', 'NCAR', 'PIK', 'UCIJPL', 'ULB', 'UTAS', 'VUB', 'VUW']\n"
     ]
    }
   ],
   "source": [
    "# Get the UB CCR's map collection's information \n",
    "mapped_collections_filename = os.path.join('/data/groups/ghub/tools/ghubex1', 'ub-ccr-ghub-ISMIP6-mapped_collections.xlsx')\n",
    "\n",
    "mapped_collections_df = pd.read_excel (mapped_collections_filename)\n",
    "#print (type(mapped_collections_df))\n",
    "#print (mapped_collections_df)\n",
    "\n",
    "num_mapped_collections = len(mapped_collections_df)\n",
    "#print (num_mapped_collections)\n",
    "\n",
    "folder_list = []\n",
    "description_list = []\n",
    "modeling_groups = []\n",
    "\n",
    "for i in range(num_mapped_collections):\n",
    "    folder = str(mapped_collections_df['Folder'][i].strip(' \\t\\n\\r'))\n",
    "    folder_list.append(folder)\n",
    "    description = str(mapped_collections_df['Description'][i].strip(' \\t\\n\\r'))\n",
    "    description_list.append(description)\n",
    "    modeling_groups.append(str(mapped_collections_df['Modeling Groups'][i].strip(' \\t\\n\\r')))\n",
    "print ('folder_list: ', folder_list)\n",
    "print ('description_list: ', description_list)\n",
    "print ('modeling_groups: ', modeling_groups)\n",
    "modeling_groups_list = list(modeling_groups[0].split(','))\n",
    "print ('modeling_groups_list: ', modeling_groups_list)\n",
    "\n",
    "\n",
    "folder_index = 0\n"
   ]
  },
  {
   "cell_type": "code",
   "execution_count": 9,
   "metadata": {},
   "outputs": [],
   "source": [
    "def folder_dropdown_callback(change):\n",
    "    \n",
    "    global folder_index\n",
    "   \n",
    "    if change['type'] == 'change' and change['name'] == 'value' and change['new'] != ' ' \\\n",
    "        and folder_dropdown.value != None:\n",
    "        \n",
    "        selected_folder = folder_dropdown.value\n",
    "        #print ('selected ice sheet: ', selected_ice_sheet)\n",
    "        folder_index = folder_list.index(selected_folder)\n",
    "          \n",
    "folder_dropdown = widgets.Dropdown(\n",
    "    description = 'Folder:',\n",
    "    disabled = False,\n",
    "    options = folder_list,\n",
    "    value = folder_list[0],\n",
    "    style = {'description_width': '150px'},\n",
    "    layout = widgets.Layout(width=dropdown_width, height=dropdown_height)\n",
    ")\n",
    "folder_dropdown.observe(folder_dropdown_callback)\n",
    "\n",
    "folder_text = widgets.Text(\n",
    "    placeholder = '',\n",
    "    description = \"Ice Sheet Folder\",\n",
    "    disabled = True,\n",
    "    value = os.path.join(folder_list[folder_index]),\n",
    "    style = {'description_width': '150px'},\\\n",
    "    layout = widgets.Layout(width='65%', visibility = 'visible')\n",
    ")\n",
    "\n"
   ]
  },
  {
   "cell_type": "markdown",
   "metadata": {},
   "source": [
    "<a name=\"step_1\"></a>\n",
    "## Step 1: Select the Mapped Collection Folder [&#8607;](#top)\n",
    "\n",
    "This tool allows users to select a predetermined UB CCR mapped collection folder. Time series data from experiment files contained within the mapped collection folder's AWI and ITLS_PIK modeling groups are summerized and displayed. See the Step 2, Run the Workflow section for more information.<br />\n",
    "\n",
    "See the Ghub netCDF File Regrid Tool to explore a different method for accessing UB CCR's mapped collections."
   ]
  },
  {
   "cell_type": "code",
   "execution_count": 10,
   "metadata": {},
   "outputs": [
    {
     "data": {
      "application/vnd.jupyter.widget-view+json": {
       "model_id": "6d51b89908fa470486be8b17d424cbc9",
       "version_major": 2,
       "version_minor": 0
      },
      "text/plain": [
       "Group(children=(HTML(value=\"<p   style='background-color: #DCDCDC; font-size: 150%; padding: 5px'>Mapped Colle…"
      ]
     },
     "metadata": {},
     "output_type": "display_data"
    }
   ],
   "source": [
    "folder_form = ui.Form([folder_dropdown], name = 'Mapped Collection Folder')\n",
    "display (folder_form)"
   ]
  },
  {
   "cell_type": "code",
   "execution_count": 11,
   "metadata": {},
   "outputs": [],
   "source": [
    " # Run Workflow\n",
    "\n",
    "self_numsamples = 0\n",
    "\n",
    "maxwalltime = ui.Number(\n",
    "    name = 'Maximum Walltime',\n",
    "    description = 'Maximum Walltime [min]',\n",
    "    units = 'min',\n",
    "    value = '30.0',\n",
    "    min = '30.0',\n",
    "    max = '60.0'\n",
    ")\n",
    "\n",
    "workflow_run_options_form = ui.Form([maxwalltime], name = 'Workflow Run Options')\n",
    "\n",
    "def run_workflow(p):\n",
    "    \n",
    "    # print (p) #Button    \n",
    "    \n",
    "    global self_workflow_succeeded\n",
    "    self_workflow_succeeded = False\n",
    "    global self_workflow_results_filepath\n",
    "    \n",
    "    workflow_progress.clear_output()\n",
    "    workflow_results.clear_output()\n",
    "        \n",
    "    with workflow_progress:\n",
    "        \n",
    "        runWorkflowButton.disabled = True\n",
    "        show_log_output_button.disabled = True\n",
    "        showscripts_button.disabled = True\n",
    "        \n",
    "        start_time = time.time()\n",
    "\n",
    "        try:\n",
    "            \n",
    "            #Note: Workflow execution times depend on the current UB CCR workload.\n",
    "            log_status (workflow_progress, \"Pegasus workflow in progress. This should take approximately 30 minutes...\")\n",
    "            \n",
    "            ice_sheet = folder_dropdown.value.split('/')[-1]\n",
    "            print ('ice_sheet: ', ice_sheet)\n",
    "            \n",
    "            self_workflow_results_filepath = os.path.join(self_workingdir, '%s_processed_netcdf_info.txt' %ice_sheet)\n",
    "            print ('self_workflow_results_filepath: ', self_workflow_results_filepath)\n",
    "\n",
    "            if os.path.exists(self_workflow_results_filepath):\n",
    "                os.remove(self_workflow_results_filepath)\n",
    "                \n",
    "            print (folder_dropdown.value)\n",
    "            print (modeling_groups[folder_index])\n",
    "                \n",
    "            Wrapper (\" \", \\\n",
    "                self_tooldir, self_bindir, self_datadir, self_workingdir, self_rundir, \\\n",
    "                folder_list[folder_index], description_list[folder_index], modeling_groups[folder_index], int(maxwalltime.value))\n",
    "            \n",
    "            # Check if the results files were created and transferred from CCR \n",
    "            # to determine if workflow completed successfully\n",
    "            \n",
    "            if os.path.exists(self_workflow_results_filepath):\n",
    "\n",
    "                print (\"Workflow completed successfully\\n\")\n",
    "                self_workflow_succeeded = True\n",
    "               \n",
    "                with workflow_results:\n",
    "                    \n",
    "                    print(\"%s: \\n\\n\" %self_workflow_results_filepath)\n",
    "                    f = open(self_workflow_results_filepath,'r')\n",
    "                    for line in f:\n",
    "                        print(line.rstrip())\n",
    "                    f.close()\n",
    "                    \n",
    "            else:\n",
    "\n",
    "                print (\"Workflow did not complete successfully\")\n",
    "                print (\"%s not generated by the workflow\\n\" %self_workflow_results_filepath)\n",
    " \n",
    "                filepath = os.path.join(self_workingdir, 'pegasus.analysis')\n",
    "                if (os.path.exists(filepath)):\n",
    "                    print(\"pegasus.analysis:\\n\")\n",
    "                    FH1 = open(filepath, 'r')\n",
    "                    output = FH1.read()\n",
    "                    FH1.close()\n",
    "                    print (output)\n",
    "\n",
    "                print (\"\\nPlease see the log output\\n\")\n",
    "        \n",
    "        except Exception as e:\n",
    "        \n",
    "            print (\"Pegasus workflow Exception: %s\\n\" %str(e))\n",
    "            print (\"Please see the log output\\n\")\n",
    "       \n",
    "        runWorkflowButton.disabled = False\n",
    "        show_log_output_button.disabled = False\n",
    "        showscripts_button.disabled = False\n",
    "\n",
    "            \n",
    "        #print (\"Workflow elapsed time: \" + str(time.time() - start_time) + \" seconds\\n\")\n",
    "        print (\"\\nWorkflow elapsed time: \" + str((time.time() - start_time)/60.0) + \" minutes\\n\")\n",
    "        #print (\"Workflow elapsed time: \" + str((time.time() - start_time)/3600.0) + \" hours\\n\")\n",
    "\n",
    "        finish_workflow_processing()\n",
    "\n",
    "# Abort\n",
    "# Select Kernel Interrupt\n",
    "#if self_tW.is_alive() == True:\n",
    "   #self_tW.terminate()\n",
    "\n",
    "runWorkflowButton = widgets.Button(description=\"Run Workflow\", disabled=False,\\\n",
    "    layout=widgets.Layout(width=button_width, height=button_height),\\\n",
    "    style= {'button_color':'lightgreen','font_weight':'bold'})\n",
    "runWorkflowButton.add_class(\"buttontextclass\")\n",
    "runWorkflowButton.on_click (run_workflow)\n",
    "#help (runWorkflowButton)\n",
    "\n",
    "# Note: See /apps/share64/debian7/anaconda/anaconda-6/lib/python3.7/site-packages/hublib/ui/pathselect.py,\n",
    "# file property initialized to None, when a file is selected gets set to the selected file.\n"
   ]
  },
  {
   "cell_type": "markdown",
   "metadata": {},
   "source": [
    "<a name=\"step_2\"></a>\n",
    "## Step 2: Run the Workflow [&#8607;](#top)\n",
    "\n",
    "Click the `Run Workflow` button to run the workflow.  \n",
    "\n",
    "- This tool uses the Python Xarray package to analyze time series data from experiment files contained within the mapped collection folder's AWI and ITLS_PIK modeling groups.\n",
    "\n",
    "- Unique `Start Exp` and `End Exp` times, and, `Duration Years` are determined for each experiment type and displayed in the `View Workflow Results` section when the workflow completes.\n",
    "\n",
    "- The scripts used to create the figures are encapsulated as a workflow by Wrapper.py. The Pegasus Workflow Management System (WMS) automates and manages the execution of the workflow jobs,<br /> including staging the jobs, distributing the work, submitting the jobs to run in parallel on CCR, as well as handling data flow dependencies and overcoming job failures.<br /> See the `Background` section for more information on the Pegasus WMS.<br />\n",
    "\n",
    "- The estimated time to run the workflow is computed and displayed. The estimated time assumes all worklow jobs complete successfully. If a workflow job returns with an error, Pegasus will attempt to re-execute the workflow job.<br />\n",
    "\n",
    "- You will receive an email when the workflow completes and the results are ready for review.<br />\n",
    "\n",
    "- If an error is encountered while runing the workflow, the cause of the error will be written to the log output file, ghub_exercise1_log_file.txt. See the `View Log Output File` section for more information.<br />\n"
   ]
  },
  {
   "cell_type": "code",
   "execution_count": 12,
   "metadata": {},
   "outputs": [
    {
     "data": {
      "application/vnd.jupyter.widget-view+json": {
       "model_id": "fb7c4e6c8545461d90897f47b778b0e2",
       "version_major": 2,
       "version_minor": 0
      },
      "text/plain": [
       "Group(children=(HTML(value=\"<p   style='background-color: #DCDCDC; font-size: 150%; padding: 5px'>Workflow Run…"
      ]
     },
     "metadata": {},
     "output_type": "display_data"
    },
    {
     "data": {
      "application/vnd.jupyter.widget-view+json": {
       "model_id": "75c432da5d9d432189ba1d7451d8941f",
       "version_major": 2,
       "version_minor": 0
      },
      "text/plain": [
       "Button(description='Run Workflow', layout=Layout(height='40px', width='250px'), style=ButtonStyle(button_color…"
      ]
     },
     "metadata": {},
     "output_type": "display_data"
    }
   ],
   "source": [
    "display(workflow_run_options_form)\n",
    "display(runWorkflowButton)"
   ]
  },
  {
   "cell_type": "code",
   "execution_count": 13,
   "metadata": {},
   "outputs": [],
   "source": [
    "#prints select scripts to the functions_ouput window\n",
    "def show_scripts(change):\n",
    " \n",
    "    if showscripts_button.description == 'Show Scripts':\n",
    "        \n",
    "        showscripts_button.description = 'Hide Scripts'\n",
    "        \n",
    "        with scripts_output:\n",
    "            functions_file = os.path.join(self_remotebindir, \"pythonLaunch.sh\")\n",
    "            print ('\\n%s:\\n' %functions_file)\n",
    "            f = open(functions_file,'r')\n",
    "            for line in f:\n",
    "                print(line.rstrip())\n",
    "            f.close()\n",
    "            print ('\\n')\n",
    "            functions_file = os.path.join(self_bindir, \"Wrapper_5_0_1.py\")\n",
    "            print ('\\n%s:\\n' %functions_file)\n",
    "            f = open(functions_file,'r')\n",
    "            for line in f:\n",
    "                print(line.rstrip())\n",
    "            f.close()\n",
    "    else:\n",
    "        \n",
    "        showscripts_button.description = 'Show Scripts'\n",
    "        scripts_output.clear_output()\n",
    "        \n",
    "showscripts_button = widgets.Button(description=\"Show Scripts\", disabled=False,\\\n",
    "    layout=widgets.Layout(width=button_width, height=button_height),\\\n",
    "    style= {'button_color':'linen','font_weight':'bold'})\n",
    "        \n",
    "showscripts_button.add_class(\"buttontextclass\")\n",
    "showscripts_button.on_click(show_scripts)\n"
   ]
  },
  {
   "cell_type": "code",
   "execution_count": 14,
   "metadata": {
    "scrolled": true
   },
   "outputs": [
    {
     "data": {
      "application/vnd.jupyter.widget-view+json": {
       "model_id": "428984852a4d4c90afbf1e0c94333a83",
       "version_major": 2,
       "version_minor": 0
      },
      "text/plain": [
       "Output(layout=Layout(border='1px solid black'))"
      ]
     },
     "metadata": {},
     "output_type": "display_data"
    }
   ],
   "source": [
    "scripts_output = widgets.Output(layout={'border': '1px solid black'})\n",
    "display (scripts_output)"
   ]
  },
  {
   "cell_type": "code",
   "execution_count": 15,
   "metadata": {},
   "outputs": [
    {
     "data": {
      "application/vnd.jupyter.widget-view+json": {
       "model_id": "9741fe2a9c664fd3bae02eb6f82caf60",
       "version_major": 2,
       "version_minor": 0
      },
      "text/plain": [
       "Button(description='Show Scripts', layout=Layout(height='40px', width='250px'), style=ButtonStyle(button_color…"
      ]
     },
     "metadata": {},
     "output_type": "display_data"
    }
   ],
   "source": [
    "display (showscripts_button)"
   ]
  },
  {
   "cell_type": "code",
   "execution_count": 16,
   "metadata": {},
   "outputs": [],
   "source": [
    "def send_user_email(workflow_succeeded):\n",
    "\n",
    "    email_subject = 'Ghub session #' + session_num + '.'\n",
    "    \n",
    "    if workflow_succeeded:\n",
    "        email_text = 'Your ghubex1 job is complete!\\r'\n",
    "        email_text = email_text+'\\rOutput files can be accessed on theghub.org in the following directory:'\n",
    "        email_text = email_text+'\\r' + str(self_workingdir)\n",
    "    else:\n",
    "        email_text = 'Your ghubex1 job Failed.'\n",
    "        email_text = email_text+'\\rPlease check theghub.org for further information, in the directory:'\n",
    "        email_text = email_text+'\\r' + str(self_workingdir)        \n",
    "        \n",
    "    email_cmd = 'submit --progress silent mail2self -t \"'+email_text+'\" -s \"'+email_subject+'\"'\n",
    "    \n",
    "    # email debugging\n",
    "    #start_time = time.time()\n",
    "    os.system(email_cmd)\n",
    "    #elapsed_time = time.time() - start_time\n",
    "    #print ('email elapsed time: ', elapsed_time)\n",
    "    \n",
    "def finish_workflow_processing():\n",
    "    \n",
    "    try:\n",
    "\n",
    "        log_info ('\\nfinish_workflow_processing...')\n",
    "        \n",
    "        # ghub_exercise1-workflow.dax is created by Wrapper.py\n",
    "        #filepath = os.path.join(self_workingdir, 'ghub_exercise1-workflow.dax')\n",
    "        #if os.path.exists(filepath):\n",
    "            #print (\"Deleting: %s\\n\" %filepath)\n",
    "            #os.remove(filepath)\n",
    "\n",
    "        for file in os.listdir(self_workingdir):\n",
    "            if os.path.isfile(file):\n",
    "                \n",
    "                if file[0] == \".\":\n",
    "                    if file != \".gitattributes\":\n",
    "                        #print (\"Deleting: %s\\n\" %file)\n",
    "                        os.remove(file)\n",
    "\n",
    "                #if file.startswith('python') and file.endswith('.stdout'):\n",
    "                    #log_info ('\\n%s:\\n' %file)\n",
    "                    #f = open(file,'r')\n",
    "                    #for line in f:\n",
    "                        #log_info (line)\n",
    "                    #f.close()\n",
    "                    #os.remove(file)\n",
    "                    \n",
    "                if file.startswith('python') and file.endswith('.stderr'):\n",
    "                    log_info ('\\n%s:\\n' %file)\n",
    "                    f = open(file,'r')\n",
    "                    for line in f:\n",
    "                        log_info (line)\n",
    "                    f.close()\n",
    "                    os.remove(file)\n",
    "         \n",
    "        filepath = os.path.join(self_workingdir, 'pegasus.analysis')\n",
    "        if (os.path.exists(filepath)):\n",
    "            filesize = os.path.getsize(filepath)\n",
    "            log_info ('\\npegasus.analysis filesize: ' + str(filesize))\n",
    "            log_info ('pegasus.analysis:\\n')\n",
    "            f = open(filepath, 'r')\n",
    "            output = f.read()\n",
    "            f.close()\n",
    "            log_info (output)\n",
    "            os.remove(filepath)\n",
    "        \n",
    "        filepath = os.path.join(self_workingdir, \"pegasusstatus.txt\")\n",
    "        if os.path.exists(filepath):\n",
    "            #print (\"Deleting: %s\\n\" %filepath)\n",
    "            os.remove(filepath)\n",
    "\n",
    "        filepath = os.path.join(self_workingdir, \"pegasusjobstats.csv\")\n",
    "        if os.path.exists(filepath):\n",
    "            #print (\"Deleting: %s\\n\" %filepath)\n",
    "            os.remove(filepath)\n",
    "\n",
    "        filepath = os.path.join(self_workingdir, \"pegasussummary-time.csv\")\n",
    "        if os.path.exists(filepath):\n",
    "            #print (\"Deleting: %s\\n\" %filepath)\n",
    "            os.remove(filepath)\n",
    "\n",
    "        filepath = os.path.join(self_workingdir, \"pegasussummary.csv\")\n",
    "        if os.path.exists(filepath):\n",
    "            #print (\"Deleting: %s\\n\" %filepath)\n",
    "            os.remove(filepath)\n",
    "\n",
    "        # send email to user\n",
    "        send_user_email(self_workflow_succeeded)\n",
    "                \n",
    "        log_info ('finish_workflow_processing done.')\n",
    "        \n",
    "    except Exception as e:\n",
    "        log_error (workflow_progress, \"EXCEPTION: %s\\n\" % str(e))\n"
   ]
  },
  {
   "cell_type": "markdown",
   "metadata": {},
   "source": [
    "<a name=\"step_3\"></a>\n",
    "## Step 3: View Workflow Progress [&#8607;](#top)\n"
   ]
  },
  {
   "cell_type": "code",
   "execution_count": 17,
   "metadata": {},
   "outputs": [
    {
     "data": {
      "application/vnd.jupyter.widget-view+json": {
       "model_id": "81c0f7212cfc46e1b75fb2522e8e6657",
       "version_major": 2,
       "version_minor": 0
      },
      "text/plain": [
       "Output(layout=Layout(border='1px solid black'))"
      ]
     },
     "metadata": {},
     "output_type": "display_data"
    }
   ],
   "source": [
    "workflow_progress = widgets.Output(layout={'border': '1px solid black'})\n",
    "display(workflow_progress)"
   ]
  },
  {
   "cell_type": "markdown",
   "metadata": {},
   "source": [
    "<a name=\"step_4\"></a>\n",
    "## Step 4: View Workflow Results [&#8607;](#top)\n"
   ]
  },
  {
   "cell_type": "code",
   "execution_count": 18,
   "metadata": {},
   "outputs": [
    {
     "data": {
      "application/vnd.jupyter.widget-view+json": {
       "model_id": "de00ded195a24c6c8deb377a161d4d04",
       "version_major": 2,
       "version_minor": 0
      },
      "text/plain": [
       "Output(layout=Layout(border='1px solid black'))"
      ]
     },
     "metadata": {},
     "output_type": "display_data"
    }
   ],
   "source": [
    "workflow_results = widgets.Output(layout={'border': '1px solid black'})\n",
    "display(workflow_results)"
   ]
  },
  {
   "cell_type": "markdown",
   "metadata": {},
   "source": [
    "<a name=\"step_5\"></a>\n",
    "## Step 5: View Log Output [&#8607;](#top)\n",
    "\n",
    "- If an error is encountered while running this tool,\n",
    "the cause of the error will be written to the log output file, ghub_exercise1_log_file.txt.\n",
    "\n",
    "- Click the `Show Log Output` button to open the `Log Output` window and view the log output file.\n"
   ]
  },
  {
   "cell_type": "code",
   "execution_count": 19,
   "metadata": {},
   "outputs": [
    {
     "data": {
      "application/vnd.jupyter.widget-view+json": {
       "model_id": "8c0df16be93d48a48b345d1f9f3349e8",
       "version_major": 2,
       "version_minor": 0
      },
      "text/plain": [
       "Button(description='Show Log Output', layout=Layout(height='40px', width='250px'), style=ButtonStyle(button_co…"
      ]
     },
     "metadata": {},
     "output_type": "display_data"
    }
   ],
   "source": [
    "def show_log_output(change):\n",
    "    \n",
    "    if os.path.exists(self_log_filepath):\n",
    "            \n",
    "        if show_log_output_button.description == 'Show Log Output':\n",
    "        \n",
    "            show_log_output_button.description = 'Hide Log Output'\n",
    "        \n",
    "            with log_output:\n",
    "            \n",
    "                if os.path.exists(self_log_filepath):\n",
    "                    print(\"%s: \\n\\n\" %self_log_filepath)\n",
    "                    f = open(self_log_filepath,'r')\n",
    "                    for line in f:\n",
    "                        print(line.rstrip())\n",
    "                    f.close()\n",
    "                else:\n",
    "                    job_error (log_output, '%s does not exist ' %filepath + '. Please contact us.')\n",
    "        else:\n",
    "        \n",
    "            show_log_output_button.description = 'Show Log Output'\n",
    "            log_output.clear_output()\n",
    "    else:\n",
    "        job_error (log_output, '%s does not exist ' %filepath + '. Please contact us.')\n",
    "\n",
    "show_log_output_button.add_class(\"buttontextclass\")\n",
    "show_log_output_button.on_click(show_log_output)\n",
    "display (show_log_output_button)"
   ]
  },
  {
   "cell_type": "code",
   "execution_count": 20,
   "metadata": {},
   "outputs": [
    {
     "data": {
      "application/vnd.jupyter.widget-view+json": {
       "model_id": "ecff7d004d6e42a9978757e56ababf68",
       "version_major": 2,
       "version_minor": 0
      },
      "text/plain": [
       "Output(layout=Layout(border='1px solid black'))"
      ]
     },
     "metadata": {},
     "output_type": "display_data"
    }
   ],
   "source": [
    "log_output = widgets.Output(layout={'border': widget_output_border_style})\n",
    "display (log_output)"
   ]
  },
  {
   "cell_type": "code",
   "execution_count": 21,
   "metadata": {},
   "outputs": [],
   "source": [
    "# Download from Ghub\n",
    "#def flush_log_file():\n",
    "    #FH1.flush()\n",
    "#display(HTML('<h4>Download File: %s</h4>' %os.path.basename(self_log_filepath)))\n",
    "#downloadTXTButton = hublib.ui.Download(os.path.relpath(self_log_filepath, os.getcwd()),\n",
    "    #label = 'Download Log', style='success', icon='fa-arrow-circle-down', cb=flush_log_file)\n",
    "#display(downloadTXTButton)"
   ]
  },
  {
   "cell_type": "code",
   "execution_count": 22,
   "metadata": {},
   "outputs": [],
   "source": [
    "# Initialize widgets with default values\n",
    "\n",
    "# Process default location\n",
    "#get_bounding_box()\n",
    "\n"
   ]
  },
  {
   "cell_type": "code",
   "execution_count": null,
   "metadata": {},
   "outputs": [],
   "source": []
  }
 ],
 "metadata": {
  "anaconda-cloud": {},
  "kernelspec": {
   "display_name": "Python 3 (ipykernel)",
   "language": "python",
   "name": "python3"
  },
  "language_info": {
   "codemirror_mode": {
    "name": "ipython",
    "version": 3
   },
   "file_extension": ".py",
   "mimetype": "text/x-python",
   "name": "python",
   "nbconvert_exporter": "python",
   "pygments_lexer": "ipython3",
   "version": "3.8.15"
  },
  "tool": false
 },
 "nbformat": 4,
 "nbformat_minor": 1
}
